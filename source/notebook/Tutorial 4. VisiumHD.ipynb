{
 "cells": [
  {
   "cell_type": "markdown",
   "id": "ef79e008-fce4-4c16-84af-874b6e1caa64",
   "metadata": {},
   "source": [
    "# VisiumHD (human colorectal cancer)"
   ]
  },
  {
   "cell_type": "markdown",
   "id": "847add25-098b-42de-9690-bdead74a772a",
   "metadata": {},
   "source": [
    "We analyzed the human colorectal cancer VisiumHD dataset. This data can be obtained from 10x Genomics Data Repository (https://www.10xgenomics.com/platforms/visium/product-family/dataset-human-crc)."
   ]
  },
  {
   "cell_type": "markdown",
   "id": "d315ab50-1572-42d0-b48b-0b9092ddc84d",
   "metadata": {
    "tags": []
   },
   "source": [
    "## 1. Import packages"
   ]
  },
  {
   "cell_type": "code",
   "execution_count": 1,
   "id": "1667200b",
   "metadata": {
    "tags": []
   },
   "outputs": [
    {
     "name": "stderr",
     "output_type": "stream",
     "text": [
      "/home/sunshuli/anaconda3/envs/DiffGSP/lib/python3.8/site-packages/tqdm/auto.py:21: TqdmWarning: IProgress not found. Please update jupyter and ipywidgets. See https://ipywidgets.readthedocs.io/en/stable/user_install.html\n",
      "  from .autonotebook import tqdm as notebook_tqdm\n"
     ]
    }
   ],
   "source": [
    "import DiffGSP as dg\n",
    "import torch\n",
    "import scanpy as sc\n",
    "import numpy as np\n",
    "import os\n",
    "device = torch.device('cuda:0' if torch.cuda.is_available() else 'cpu')\n",
    "import matplotlib.pyplot as plt\n",
    "plt.rcParams['font.sans-serif']=['Arial']"
   ]
  },
  {
   "cell_type": "markdown",
   "id": "556a7be1-1ec0-499f-8a1c-5e3ef939e709",
   "metadata": {},
   "source": [
    "## 2. Read data"
   ]
  },
  {
   "cell_type": "code",
   "execution_count": 2,
   "id": "4c0d6e19",
   "metadata": {
    "tags": []
   },
   "outputs": [],
   "source": [
    "# Set parameters\n",
    "data_tissue = 'Human_Colorectal_Cancer'\n",
    "data_name = 'P1'\n",
    "square = '016'\n",
    "data_type = 'VisiumHD'\n",
    "method = 'BFGS'\n",
    "alpha = 0\n",
    "k = 2\n",
    "multiple = 8\n",
    "bin_size_calculate = int(square) * 2 * multiple"
   ]
  },
  {
   "cell_type": "code",
   "execution_count": 3,
   "id": "a86543bf",
   "metadata": {
    "tags": []
   },
   "outputs": [
    {
     "data": {
      "text/plain": [
       "AnnData object with n_obs × n_vars = 175434 × 37082\n",
       "    obs: 'in_tissue', 'array_row', 'array_col'\n",
       "    var: 'gene_ids', 'feature_types', 'genome'\n",
       "    uns: 'spatial'\n",
       "    obsm: 'spatial'"
      ]
     },
     "execution_count": 3,
     "metadata": {},
     "output_type": "execute_result"
    }
   ],
   "source": [
    "data_path = f'/storage/sunshuli/datasets/VisiumHD/{data_tissue}/binned_outputs_{data_name}/square_{square}um'\n",
    "tissue_position_file = f'{data_path}/spatial/tissue_positions.parquet'\n",
    "tissue_position_csv = f'{data_path}/spatial/tissue_positions_list.csv'\n",
    "\n",
    "if not os.path.exists(tissue_position_csv):\n",
    "    tissue_position_df = pd.read_parquet(tissue_position_file)\n",
    "    tissue_position_df.to_csv(tissue_position_csv, index=False, header=None)\n",
    "\n",
    "adata = sc.read_visium(data_path, count_file='raw_feature_bc_matrix.h5')\n",
    "adata.var_names_make_unique()\n",
    "col, row = adata.obs['array_col'].values, -1 * adata.obs['array_row'].values\n",
    "spatial = np.column_stack((col, row))\n",
    "adata.obsm['spatial'] = spatial * bin_size_calculate\n",
    "adata"
   ]
  },
  {
   "cell_type": "markdown",
   "id": "63c84574-0118-47b9-8de9-5b0cd61d9fb3",
   "metadata": {
    "tags": []
   },
   "source": [
    "## 3. Downsampling"
   ]
  },
  {
   "cell_type": "code",
   "execution_count": 4,
   "id": "3ca603c2",
   "metadata": {
    "scrolled": true,
    "tags": []
   },
   "outputs": [
    {
     "name": "stdout",
     "output_type": "stream",
     "text": [
      "Number of downsampled spots: 2704\n"
     ]
    },
    {
     "data": {
      "text/plain": [
       "AnnData object with n_obs × n_vars = 2704 × 37082\n",
       "    obs: 'in_tissue'\n",
       "    var: 'gene_ids', 'feature_types', 'genome'\n",
       "    obsm: 'spatial'"
      ]
     },
     "execution_count": 4,
     "metadata": {},
     "output_type": "execute_result"
    }
   ],
   "source": [
    "adata = dg.downsampling(adata, multiple=[multiple, multiple])\n",
    "adata"
   ]
  },
  {
   "cell_type": "markdown",
   "id": "57c32346-42cd-47ff-bac2-590a527c7fc0",
   "metadata": {
    "tags": []
   },
   "source": [
    "## 4. Data processing, including filtering genes and identifying svgs"
   ]
  },
  {
   "cell_type": "code",
   "execution_count": 5,
   "id": "bfd33f57",
   "metadata": {
    "tags": []
   },
   "outputs": [
    {
     "data": {
      "text/plain": [
       "View of AnnData object with n_obs × n_vars = 2704 × 50\n",
       "    obs: 'in_tissue'\n",
       "    var: 'gene_ids', 'feature_types', 'genome'\n",
       "    obsm: 'spatial'"
      ]
     },
     "execution_count": 5,
     "metadata": {},
     "output_type": "execute_result"
    }
   ],
   "source": [
    "adata = adata[:, dg.prefilter_genes(adata, min_cells=3, min_counts=100)]\n",
    "svgs = dg.select_svgs(adata, svg_method='gft_top', n_top=2000)\n",
    "adata = adata[:, svgs[:50]]\n",
    "adata"
   ]
  },
  {
   "cell_type": "markdown",
   "id": "bf571f9d-22d3-47c7-aafe-7c51feee370d",
   "metadata": {},
   "source": [
    "## 5. Run DiffGSP (BFGS)"
   ]
  },
  {
   "cell_type": "code",
   "execution_count": 6,
   "id": "85bcfcfa",
   "metadata": {
    "tags": []
   },
   "outputs": [
    {
     "name": "stderr",
     "output_type": "stream",
     "text": [
      "Training:  34%|████▊         | 34/100 [00:06<00:11,  5.54it/s, Loss=tensor(1.9291, device='cuda:0')]\n"
     ]
    },
    {
     "data": {
      "text/plain": [
       "tensor([0.7202, 0.7179], device='cuda:0', dtype=torch.float64)"
      ]
     },
     "execution_count": 6,
     "metadata": {},
     "output_type": "execute_result"
    }
   ],
   "source": [
    "adata, optimal_solution, loss_list, constant = dg.run_diffgsp(adata, k=k, alpha=alpha, device=device, method=method,\n",
    "                                                              data_type=data_type, bin_size=bin_size_calculate)\n",
    "optimal_solution"
   ]
  },
  {
   "cell_type": "markdown",
   "id": "8523ed4e-8534-4068-a43d-379ba8dabea0",
   "metadata": {},
   "source": [
    "## 6. Run DiffGSP (16um)"
   ]
  },
  {
   "cell_type": "code",
   "execution_count": 7,
   "id": "b71734c8-af5b-4ba7-ab6c-49eb1bf5d102",
   "metadata": {},
   "outputs": [
    {
     "name": "stderr",
     "output_type": "stream",
     "text": [
      "Test: 100%|███████████████████████████████████████████| 64/64 [02:33<00:00,  2.40s/it, Finish=64/64]\n"
     ]
    }
   ],
   "source": [
    "#%% Apply to high-resolution\n",
    "square = '016'\n",
    "\n",
    "data_path = f'/storage/sunshuli/datasets/VisiumHD/{data_tissue}/binned_outputs_{data_name}/square_{square}um'\n",
    "tissue_position_file = f'{data_path}/spatial/tissue_positions.parquet'\n",
    "tissue_position_csv = f'{data_path}/spatial/tissue_positions_list.csv'\n",
    "\n",
    "if not os.path.exists(tissue_position_csv):\n",
    "    tissue_position_df = pd.read_parquet(tissue_position_file)\n",
    "    tissue_position_df.to_csv(tissue_position_csv, index=False, header=None)\n",
    "    \n",
    "adata = sc.read_visium(data_path, count_file='raw_feature_bc_matrix.h5')\n",
    "adata.var_names_make_unique()\n",
    "adata = adata[:, svgs]\n",
    "adata_raw = adata.copy()\n",
    "\n",
    "col, row = adata.obs['array_col'].values, -1 * adata.obs['array_row'].values\n",
    "spatial = np.column_stack((col, row))\n",
    "bin_size = int(square) * 2\n",
    "adata.obsm['spatial'] = spatial * bin_size\n",
    "adata.obs['x'] = np.array(adata.obsm['spatial'][:, 0])\n",
    "adata.obs['y'] = np.array(adata.obsm['spatial'][:, 1])\n",
    "\n",
    "adata = dg.fill_adata(adata, bin_size=bin_size)\n",
    "factor = bin_size / bin_size_calculate\n",
    "part = int(bin_size_calculate / bin_size)\n",
    "adata = dg.run_diffgsp_subgraph(adata, k=k, variable=optimal_solution.cpu().detach().numpy() * factor, array_key=['x', 'y'],\n",
    "                                partition=[part, part], data_type=data_type, bin_size=2 * int(square))\n",
    "\n",
    "adata = adata[adata_raw.obs_names, adata_raw.var_names]\n",
    "adata1 = adata_raw.copy()\n",
    "adata1.X = adata.X # adata1: DiffGSP result"
   ]
  },
  {
   "cell_type": "markdown",
   "id": "90f1e5b9-81c8-4ca5-b8e1-c4cd0bd398fa",
   "metadata": {},
   "source": [
    "## 7. Run DiffGSP (8um)"
   ]
  },
  {
   "cell_type": "code",
   "execution_count": 8,
   "id": "2a8b6262-51ee-451b-a8d0-4b7c6343fad8",
   "metadata": {},
   "outputs": [
    {
     "name": "stderr",
     "output_type": "stream",
     "text": [
      "Test: 100%|███████████████████████████████████████| 256/256 [10:42<00:00,  2.51s/it, Finish=256/256]\n"
     ]
    }
   ],
   "source": [
    "#%% Apply to high-resolution data\n",
    "square = '008'\n",
    "\n",
    "data_path = f'/storage/sunshuli/datasets/VisiumHD/{data_tissue}/binned_outputs_{data_name}/square_{square}um'\n",
    "tissue_position_file = f'{data_path}/spatial/tissue_positions.parquet'\n",
    "tissue_position_csv = f'{data_path}/spatial/tissue_positions_list.csv'\n",
    "\n",
    "if not os.path.exists(tissue_position_csv):\n",
    "    tissue_position_df = pd.read_parquet(tissue_position_file)\n",
    "    tissue_position_df.to_csv(tissue_position_csv, index=False, header=None)\n",
    "    \n",
    "adata = sc.read_visium(data_path, count_file='raw_feature_bc_matrix.h5')\n",
    "adata.var_names_make_unique()\n",
    "adata = adata[:, svgs]\n",
    "adata_raw = adata.copy()\n",
    "\n",
    "col, row = adata.obs['array_col'].values, -1 * adata.obs['array_row'].values\n",
    "spatial = np.column_stack((col, row))\n",
    "bin_size = int(square) * 2\n",
    "adata.obsm['spatial'] = spatial * bin_size\n",
    "adata.obs['x'] = np.array(adata.obsm['spatial'][:, 0])\n",
    "adata.obs['y'] = np.array(adata.obsm['spatial'][:, 1])\n",
    "\n",
    "adata = dg.fill_adata(adata, bin_size=bin_size)\n",
    "factor = bin_size / bin_size_calculate\n",
    "part = int(bin_size_calculate / bin_size)\n",
    "adata = dg.run_diffgsp_subgraph(adata, k=k, variable=optimal_solution.cpu().detach().numpy() * factor, array_key=['x', 'y'],\n",
    "                                partition=[part, part], data_type=data_type, bin_size=2 * int(square))\n",
    "\n",
    "adata = adata[adata_raw.obs_names, adata_raw.var_names]\n",
    "adata1 = adata_raw.copy()\n",
    "adata1.X = adata.X # adata1: DiffGSP result"
   ]
  },
  {
   "cell_type": "code",
   "execution_count": null,
   "id": "b4d99a49-6dea-40ff-9518-4ecd54542921",
   "metadata": {},
   "outputs": [],
   "source": []
  }
 ],
 "metadata": {
  "kernelspec": {
   "display_name": "DiffGSP",
   "language": "python",
   "name": "diffgsp"
  },
  "language_info": {
   "codemirror_mode": {
    "name": "ipython",
    "version": 3
   },
   "file_extension": ".py",
   "mimetype": "text/x-python",
   "name": "python",
   "nbconvert_exporter": "python",
   "pygments_lexer": "ipython3",
   "version": "3.8.19"
  }
 },
 "nbformat": 4,
 "nbformat_minor": 5
}
